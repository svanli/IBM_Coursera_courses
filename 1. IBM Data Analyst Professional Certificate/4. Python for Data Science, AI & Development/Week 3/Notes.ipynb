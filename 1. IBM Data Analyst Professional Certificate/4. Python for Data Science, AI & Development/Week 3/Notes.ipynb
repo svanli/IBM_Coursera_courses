{
 "cells": [
  {
   "cell_type": "code",
   "execution_count": 2,
   "metadata": {},
   "outputs": [],
   "source": [
    "def MJ():\n",
    "    print('Michael Jackson')"
   ]
  },
  {
   "cell_type": "code",
   "execution_count": 3,
   "metadata": {},
   "outputs": [
    {
     "name": "stdout",
     "output_type": "stream",
     "text": [
      "Michael Jackson\n"
     ]
    }
   ],
   "source": [
    "MJ()"
   ]
  },
  {
   "cell_type": "code",
   "execution_count": 4,
   "metadata": {},
   "outputs": [
    {
     "name": "stdout",
     "output_type": "stream",
     "text": [
      "Michael Jackson\n"
     ]
    }
   ],
   "source": [
    "def MJ1():\n",
    "    print('Michael Jackson')\n",
    "    return(None)\n",
    "MJ1()"
   ]
  },
  {
   "cell_type": "code",
   "execution_count": 5,
   "metadata": {},
   "outputs": [
    {
     "name": "stdout",
     "output_type": "stream",
     "text": [
      "Go \n",
      "Mike\n"
     ]
    }
   ],
   "source": [
    "x = \"Go\"\n",
    "\n",
    "if(x == \"Go\"):\n",
    "  print('Go ')\n",
    "\n",
    "else:\n",
    "  print('Stop')\n",
    "\n",
    "print('Mike')"
   ]
  },
  {
   "cell_type": "code",
   "execution_count": 6,
   "metadata": {},
   "outputs": [
    {
     "data": {
      "text/plain": [
       "True"
      ]
     },
     "execution_count": 6,
     "metadata": {},
     "output_type": "execute_result"
    }
   ],
   "source": [
    "x = 1\n",
    "x > -5"
   ]
  },
  {
   "cell_type": "code",
   "execution_count": 11,
   "metadata": {},
   "outputs": [
    {
     "name": "stdout",
     "output_type": "stream",
     "text": [
      "0\n",
      "1\n"
     ]
    }
   ],
   "source": [
    "x = 0\n",
    "while(x < 2):\n",
    "    print(x)\n",
    "    x = x + 1 "
   ]
  },
  {
   "cell_type": "code",
   "execution_count": 12,
   "metadata": {},
   "outputs": [
    {
     "name": "stdout",
     "output_type": "stream",
     "text": [
      "x= 1  y= 2\n"
     ]
    }
   ],
   "source": [
    "class Points(object):\n",
    "  def __init__(self,x,y):\n",
    "\n",
    "    self.x=x\n",
    "    self.y=y\n",
    "\n",
    "  def print_point(self):\n",
    "\n",
    "    print('x=',self.x,' y=',self.y)\n",
    "\n",
    "p1=Points(1,2)\n",
    "p1.print_point()"
   ]
  },
  {
   "cell_type": "code",
   "execution_count": 13,
   "metadata": {},
   "outputs": [
    {
     "name": "stdout",
     "output_type": "stream",
     "text": [
      "1 A\n",
      "2 B\n",
      "3 C\n"
     ]
    }
   ],
   "source": [
    "for i,x in enumerate(['A','B','C']):\n",
    "    print(i+1,x)"
   ]
  },
  {
   "cell_type": "code",
   "execution_count": 14,
   "metadata": {},
   "outputs": [
    {
     "name": "stdout",
     "output_type": "stream",
     "text": [
      "x= A  y= 2\n"
     ]
    }
   ],
   "source": [
    "class Points(object):\n",
    "\n",
    "  def __init__(self,x,y):\n",
    "\n",
    "    self.x=x\n",
    "    self.y=y\n",
    "\n",
    "  def print_point(self):\n",
    "\n",
    "    print('x=',self.x,' y=',self.y)\n",
    "\n",
    "p2=Points(1,2)\n",
    "\n",
    "p2.x='A'\n",
    "\n",
    "p2.print_point()"
   ]
  },
  {
   "cell_type": "code",
   "execution_count": 17,
   "metadata": {},
   "outputs": [
    {
     "data": {
      "text/plain": [
       "0"
      ]
     },
     "execution_count": 17,
     "metadata": {},
     "output_type": "execute_result"
    }
   ],
   "source": [
    "def step(x):\n",
    "    if x>0:\n",
    "        y=1\n",
    "    else:\n",
    "        y=0\n",
    "    return y\n",
    "step(0)"
   ]
  },
  {
   "cell_type": "code",
   "execution_count": 18,
   "metadata": {},
   "outputs": [
    {
     "name": "stdout",
     "output_type": "stream",
     "text": [
      "101\n"
     ]
    }
   ],
   "source": [
    "a=1\n",
    "\n",
    "def do(x):\n",
    "    a=100\n",
    "    return(x+a)\n",
    "\n",
    "print(do(1))"
   ]
  },
  {
   "cell_type": "code",
   "execution_count": 1,
   "metadata": {},
   "outputs": [
    {
     "data": {
      "text/plain": [
       "False"
      ]
     },
     "execution_count": 1,
     "metadata": {},
     "output_type": "execute_result"
    }
   ],
   "source": [
    "check_value = 'Stefan'\n",
    "check_value == 'Stef'"
   ]
  },
  {
   "cell_type": "code",
   "execution_count": 2,
   "metadata": {},
   "outputs": [
    {
     "data": {
      "text/plain": [
       "True"
      ]
     },
     "execution_count": 2,
     "metadata": {},
     "output_type": "execute_result"
    }
   ],
   "source": [
    "check_value == 'Stefan'"
   ]
  },
  {
   "cell_type": "code",
   "execution_count": 12,
   "metadata": {},
   "outputs": [
    {
     "data": {
      "text/plain": [
       "True"
      ]
     },
     "execution_count": 12,
     "metadata": {},
     "output_type": "execute_result"
    }
   ],
   "source": [
    "check_value2 = 10\n",
    "check_value2 == (7+3)"
   ]
  },
  {
   "cell_type": "code",
   "execution_count": 19,
   "metadata": {},
   "outputs": [
    {
     "data": {
      "text/plain": [
       "False"
      ]
     },
     "execution_count": 19,
     "metadata": {},
     "output_type": "execute_result"
    }
   ],
   "source": [
    "check_value2 > 10"
   ]
  },
  {
   "cell_type": "code",
   "execution_count": 20,
   "metadata": {},
   "outputs": [
    {
     "data": {
      "text/plain": [
       "True"
      ]
     },
     "execution_count": 20,
     "metadata": {},
     "output_type": "execute_result"
    }
   ],
   "source": [
    "check_value2 > 9"
   ]
  },
  {
   "cell_type": "code",
   "execution_count": 23,
   "metadata": {},
   "outputs": [
    {
     "data": {
      "text/plain": [
       "False"
      ]
     },
     "execution_count": 23,
     "metadata": {},
     "output_type": "execute_result"
    }
   ],
   "source": [
    "check_value2 > 10"
   ]
  },
  {
   "cell_type": "code",
   "execution_count": 24,
   "metadata": {},
   "outputs": [
    {
     "data": {
      "text/plain": [
       "True"
      ]
     },
     "execution_count": 24,
     "metadata": {},
     "output_type": "execute_result"
    }
   ],
   "source": [
    "check_value2 != 11"
   ]
  },
  {
   "cell_type": "code",
   "execution_count": 25,
   "metadata": {},
   "outputs": [
    {
     "data": {
      "text/plain": [
       "False"
      ]
     },
     "execution_count": 25,
     "metadata": {},
     "output_type": "execute_result"
    }
   ],
   "source": [
    "check_value2 != 10"
   ]
  },
  {
   "cell_type": "code",
   "execution_count": 26,
   "metadata": {},
   "outputs": [
    {
     "data": {
      "text/plain": [
       "False"
      ]
     },
     "execution_count": 26,
     "metadata": {},
     "output_type": "execute_result"
    }
   ],
   "source": [
    "'Stefan' == 'Stef'"
   ]
  },
  {
   "cell_type": "code",
   "execution_count": 27,
   "metadata": {},
   "outputs": [
    {
     "data": {
      "text/plain": [
       "True"
      ]
     },
     "execution_count": 27,
     "metadata": {},
     "output_type": "execute_result"
    }
   ],
   "source": [
    "'Stefan' == 'Stefan'"
   ]
  },
  {
   "cell_type": "code",
   "execution_count": 28,
   "metadata": {},
   "outputs": [
    {
     "data": {
      "text/plain": [
       "True"
      ]
     },
     "execution_count": 28,
     "metadata": {},
     "output_type": "execute_result"
    }
   ],
   "source": [
    "'Stefan' != 'Stef'"
   ]
  },
  {
   "cell_type": "code",
   "execution_count": 29,
   "metadata": {},
   "outputs": [
    {
     "data": {
      "text/plain": [
       "True"
      ]
     },
     "execution_count": 29,
     "metadata": {},
     "output_type": "execute_result"
    }
   ],
   "source": [
    "'Stefan' > 'Alena'"
   ]
  },
  {
   "cell_type": "code",
   "execution_count": 31,
   "metadata": {},
   "outputs": [
    {
     "name": "stdout",
     "output_type": "stream",
     "text": [
      "older than 25\n",
      "younger than 25\n"
     ]
    }
   ],
   "source": [
    "age = 30\n",
    "\n",
    "if age > 25:\n",
    "\n",
    "    print('older than 25')\n",
    "    \n",
    "print('younger than 25')"
   ]
  },
  {
   "cell_type": "code",
   "execution_count": 60,
   "metadata": {},
   "outputs": [
    {
     "name": "stdout",
     "output_type": "stream",
     "text": [
      "Check the \"Getting older\" course\n",
      "Thanks for your visit!\n"
     ]
    }
   ],
   "source": [
    "age = 30\n",
    "\n",
    "if   age >= 65:\n",
    "    print('Check the retirement course')\n",
    "    \n",
    "elif age >= 50:\n",
    "    print('Check the \"Dealing with teens\" course')\n",
    "    \n",
    "elif age == 30:\n",
    "    print('Check the \"Getting older\" course')\n",
    "\n",
    "elif age >= 25:\n",
    "    print('Check the \"Finding your first job\" course')\n",
    "    \n",
    "elif age >= 18:\n",
    "    print('Check the university course')\n",
    "    \n",
    "else:\n",
    "    print('Check the school course')\n",
    "    \n",
    "print('Thanks for your visit!')"
   ]
  },
  {
   "cell_type": "code",
   "execution_count": 67,
   "metadata": {},
   "outputs": [
    {
     "name": "stdout",
     "output_type": "stream",
     "text": [
      "1. Check the \"Getting older\" course.\n",
      "2. Thanks for your visit! Come back soon to the Rotterdam Community Center.\n"
     ]
    }
   ],
   "source": [
    "# First you set the age, in this case 30.\n",
    "age = 30\n",
    "\n",
    "# You set the first condition. If a person is 65 or older he will be offered the retirement course. \n",
    "if   age >= 65:\n",
    "    print('1. Check the retirement course.')\n",
    "\n",
    "# If the visitor is younger he will get a different suggestion based on his age.\n",
    "elif age >= 50:\n",
    "    print('1. Check the \"Dealing with teens\" course.')\n",
    "    \n",
    "elif age == 30:\n",
    "    print('1. Check the \"Getting older\" course.')\n",
    "\n",
    "elif age >= 25:\n",
    "    print('1. Check the \"Finding your first job\" course.')\n",
    "    \n",
    "elif age >= 18:\n",
    "    print('1. Check the university course.')\n",
    "\n",
    "# If the visitor does not fit any other category he will be offered the school course.\n",
    "else:\n",
    "    print('1. Check the school course.')\n",
    "    \n",
    "# When the visitor is done with the course he will get this message.\n",
    "print('2. Thanks for your visit! Come back soon to the Rotterdam Community Center.')"
   ]
  },
  {
   "cell_type": "code",
   "execution_count": 6,
   "metadata": {},
   "outputs": [
    {
     "name": "stdout",
     "output_type": "stream",
     "text": [
      "Employees meet the criteria\n",
      "Employees do not meet the criteria\n"
     ]
    }
   ],
   "source": [
    "age_emp = 23\n",
    "age_emp = 54\n",
    "age_emp = 62\n",
    "age_emp = 43\n",
    "age_emp = 27\n",
    "age_emp = 29\n",
    "age_emp = 35\n",
    "age_emp = 38\n",
    "age_emp = 41\n",
    "age_emp = 19\n",
    "\n",
    "if age_emp > 1:\n",
    "        print('Employees meet the criteria')\n",
    "\n",
    "print('Employees do not meet the criteria')"
   ]
  },
  {
   "cell_type": "code",
   "execution_count": 12,
   "metadata": {},
   "outputs": [
    {
     "name": "stdout",
     "output_type": "stream",
     "text": [
      "Employees do not meet the age criteria.\n"
     ]
    }
   ],
   "source": [
    "age_emp = 23\n",
    "age_emp = 54\n",
    "age_emp = 62\n",
    "age_emp = 43\n",
    "age_emp = 27\n",
    "age_emp = 29\n",
    "age_emp = 35\n",
    "age_emp = 38\n",
    "age_emp = 41\n",
    "age_emp = 19\n",
    "\n",
    "if age_emp > 30:\n",
    "    print('Employees meet the age criteria.')\n",
    "\n",
    "else:\n",
    "    print('Employees do not meet the age criteria.')\n",
    "    \n",
    "# There is not additional print() at the end, that means that there will be no second line\n",
    "# (see the last line in the previous example)."
   ]
  },
  {
   "cell_type": "code",
   "execution_count": 20,
   "metadata": {},
   "outputs": [
    {
     "name": "stdout",
     "output_type": "stream",
     "text": [
      "Employee is younger than 30.\n"
     ]
    }
   ],
   "source": [
    "# Set the employee age.\n",
    "age_emp = 25\n",
    "\n",
    "# If the employee is 40 or older print this message.\n",
    "if age_emp >= 40:\n",
    "    print('Employee is 40 or older.')\n",
    "\n",
    "# If the employee is 30 or older print this message.\n",
    "elif age_emp >= 30:\n",
    "    print('Employee is 30 or older.')\n",
    "\n",
    "# If the employee is younger than 30 print this message.  \n",
    "else:\n",
    "    print('Employee is younger than 30.')"
   ]
  },
  {
   "cell_type": "code",
   "execution_count": 31,
   "metadata": {},
   "outputs": [
    {
     "name": "stdout",
     "output_type": "stream",
     "text": [
      "Candidate falls into the 21-40 age category.\n"
     ]
    }
   ],
   "source": [
    "candidate_age = 36\n",
    "\n",
    "if   (candidate_age > 66):\n",
    "    print('Candidate could not be employed due to senior age.')\n",
    "\n",
    "elif (candidate_age > 40) and (candidate_age < 67):\n",
    "    print('Candidate falls into the 41-66 age category.')\n",
    "\n",
    "elif (candidate_age > 20) and (candidate_age < 41):\n",
    "    print('Candidate falls into the 21-40 age category.')\n",
    "    \n",
    "elif (candidate_age > 15) and (candidate_age < 21):\n",
    "    print('Candidate falls into the 16-20 age category.')\n",
    "\n",
    "else:\n",
    "    print('Candidate could not be employed due to young age.')"
   ]
  },
  {
   "cell_type": "code",
   "execution_count": 1,
   "metadata": {},
   "outputs": [
    {
     "ename": "SyntaxError",
     "evalue": "cannot assign to literal (<ipython-input-1-c0ab9e3898ea>, line 1)",
     "output_type": "error",
     "traceback": [
      "\u001b[1;36m  File \u001b[1;32m\"<ipython-input-1-c0ab9e3898ea>\"\u001b[1;36m, line \u001b[1;32m1\u001b[0m\n\u001b[1;33m    1 = 2\u001b[0m\n\u001b[1;37m    ^\u001b[0m\n\u001b[1;31mSyntaxError\u001b[0m\u001b[1;31m:\u001b[0m cannot assign to literal\n"
     ]
    }
   ],
   "source": [
    "1 = 2"
   ]
  },
  {
   "cell_type": "code",
   "execution_count": 2,
   "metadata": {},
   "outputs": [
    {
     "data": {
      "text/plain": [
       "True"
      ]
     },
     "execution_count": 2,
     "metadata": {},
     "output_type": "execute_result"
    }
   ],
   "source": [
    "True or False"
   ]
  },
  {
   "cell_type": "code",
   "execution_count": 3,
   "metadata": {},
   "outputs": [
    {
     "data": {
      "text/plain": [
       "True"
      ]
     },
     "execution_count": 3,
     "metadata": {},
     "output_type": "execute_result"
    }
   ],
   "source": [
    "False or True"
   ]
  },
  {
   "cell_type": "code",
   "execution_count": 4,
   "metadata": {},
   "outputs": [
    {
     "data": {
      "text/plain": [
       "False"
      ]
     },
     "execution_count": 4,
     "metadata": {},
     "output_type": "execute_result"
    }
   ],
   "source": [
    "1 == 2"
   ]
  },
  {
   "cell_type": "code",
   "execution_count": 8,
   "metadata": {},
   "outputs": [
    {
     "data": {
      "text/plain": [
       "range(0, 10)"
      ]
     },
     "execution_count": 8,
     "metadata": {},
     "output_type": "execute_result"
    }
   ],
   "source": [
    "range(10)"
   ]
  },
  {
   "cell_type": "code",
   "execution_count": 18,
   "metadata": {},
   "outputs": [
    {
     "name": "stdout",
     "output_type": "stream",
     "text": [
      "1992\n",
      "1993\n",
      "1994\n"
     ]
    }
   ],
   "source": [
    "dates = [1992, 1993, 1994]\n",
    "\n",
    "n = len(dates)\n",
    "\n",
    "for x in range(n):\n",
    "    print(dates[x])"
   ]
  },
  {
   "cell_type": "code",
   "execution_count": 20,
   "metadata": {},
   "outputs": [
    {
     "name": "stdout",
     "output_type": "stream",
     "text": [
      "1992\n",
      "1993\n",
      "1994\n"
     ]
    }
   ],
   "source": [
    "dates = [1992, 1993, 1994]\n",
    "\n",
    "print(dates[0])\n",
    "print(dates[1])\n",
    "print(dates[2])"
   ]
  },
  {
   "cell_type": "code",
   "execution_count": 22,
   "metadata": {},
   "outputs": [
    {
     "name": "stdout",
     "output_type": "stream",
     "text": [
      "ddawd\n",
      "uivfd\n",
      "32dw38k\n",
      "d32ijd239\n"
     ]
    }
   ],
   "source": [
    "random_text = ['ddawd', 'uivfd', '32dw38k', 'd32ijd239']\n",
    "n = len(random_text)\n",
    "\n",
    "for x in range(n):\n",
    "    print(random_text[x])"
   ]
  },
  {
   "cell_type": "code",
   "execution_count": 24,
   "metadata": {},
   "outputs": [
    {
     "name": "stdout",
     "output_type": "stream",
     "text": [
      "0\n",
      "1\n",
      "2\n",
      "3\n",
      "4\n",
      "5\n",
      "6\n",
      "7\n",
      "8\n",
      "9\n",
      "10\n",
      "11\n",
      "12\n",
      "13\n",
      "14\n",
      "15\n",
      "16\n",
      "17\n",
      "18\n",
      "19\n",
      "20\n",
      "21\n",
      "22\n",
      "23\n"
     ]
    }
   ],
   "source": [
    "for x in range(0, 24):\n",
    "    print(x)"
   ]
  },
  {
   "cell_type": "code",
   "execution_count": 25,
   "metadata": {},
   "outputs": [
    {
     "name": "stdout",
     "output_type": "stream",
     "text": [
      "32\n",
      "33\n",
      "43\n",
      "23\n",
      "43\n",
      "45\n",
      "45\n",
      "34\n"
     ]
    }
   ],
   "source": [
    "employees = [32, 33, 43, 23, 43, 45, 45, 34]\n",
    "\n",
    "for age in employees:\n",
    "    print(age)"
   ]
  },
  {
   "cell_type": "code",
   "execution_count": 26,
   "metadata": {},
   "outputs": [
    {
     "name": "stdout",
     "output_type": "stream",
     "text": [
      "dawd\n",
      "awdawd\n",
      "difeij\n",
      "dwij32id\n",
      "323\n"
     ]
    }
   ],
   "source": [
    "random = ['dawd', 'awdawd', 'difeij', 'dwij32id', 323]\n",
    "\n",
    "for uihawiu in random:\n",
    "    print(uihawiu)"
   ]
  },
  {
   "cell_type": "code",
   "execution_count": null,
   "metadata": {},
   "outputs": [],
   "source": []
  }
 ],
 "metadata": {
  "kernelspec": {
   "display_name": "Python 3",
   "language": "python",
   "name": "python3"
  },
  "language_info": {
   "codemirror_mode": {
    "name": "ipython",
    "version": 3
   },
   "file_extension": ".py",
   "mimetype": "text/x-python",
   "name": "python",
   "nbconvert_exporter": "python",
   "pygments_lexer": "ipython3",
   "version": "3.8.3"
  }
 },
 "nbformat": 4,
 "nbformat_minor": 4
}
